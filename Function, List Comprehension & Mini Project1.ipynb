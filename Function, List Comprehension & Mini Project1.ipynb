{
 "cells": [
  {
   "cell_type": "markdown",
   "id": "8d1f5d91",
   "metadata": {},
   "source": [
    "# Topic\n",
    "- List Comprehension\n",
    "- Function\n",
    "- Python Mini Project"
   ]
  },
  {
   "cell_type": "markdown",
   "id": "ca0e9c2b",
   "metadata": {},
   "source": [
    "## List Comprehension\n",
    "- It is used to generate a list from another list in fewer line of codes\n",
    "- We can generate list by list comprehension from any iterable"
   ]
  },
  {
   "cell_type": "markdown",
   "id": "e94a6a20",
   "metadata": {},
   "source": [
    "### Example1:\n",
    "Generate a list of squares of numbers given as a list"
   ]
  },
  {
   "cell_type": "code",
   "execution_count": 4,
   "id": "719bb90b",
   "metadata": {},
   "outputs": [
    {
     "name": "stdout",
     "output_type": "stream",
     "text": [
      "[2, -5, 0, 1, 9]\n",
      "[4, 25, 0, 1, 81]\n"
     ]
    }
   ],
   "source": [
    "# Using normal for loop\n",
    "num_list = [2, -5, 0, 1, 9]\n",
    "square_list = []\n",
    "for i in num_list:\n",
    "    square_list.append(i**2)\n",
    "print(num_list)\n",
    "print(square_list)"
   ]
  },
  {
   "cell_type": "code",
   "execution_count": 5,
   "id": "5aabcf53",
   "metadata": {},
   "outputs": [
    {
     "data": {
      "text/plain": [
       "[4, 25, 0, 1, 81]"
      ]
     },
     "execution_count": 5,
     "metadata": {},
     "output_type": "execute_result"
    }
   ],
   "source": [
    "# By list comprehension\n",
    "num_list = [2, -5, 0, 1, 9]\n",
    "square_list = [i**2 for i in num_list]\n",
    "square_list\n"
   ]
  },
  {
   "cell_type": "markdown",
   "id": "debe4801",
   "metadata": {},
   "source": [
    "### Example2:\n",
    "List comprehension with if statement"
   ]
  },
  {
   "cell_type": "markdown",
   "id": "c331ee3e",
   "metadata": {},
   "source": [
    "#### Print the squares of numbers given as list only when the numbers are divisible by 3"
   ]
  },
  {
   "cell_type": "code",
   "execution_count": 6,
   "id": "a7be0b5b",
   "metadata": {},
   "outputs": [
    {
     "data": {
      "text/plain": [
       "[36, 9, 81]"
      ]
     },
     "execution_count": 6,
     "metadata": {},
     "output_type": "execute_result"
    }
   ],
   "source": [
    "my_list = [2, 5, 6, -3, 9, 7, 1, -4]\n",
    "desired_list = [i**2 for i in my_list if i%3 == 0]\n",
    "desired_list"
   ]
  },
  {
   "cell_type": "markdown",
   "id": "032203eb",
   "metadata": {},
   "source": [
    "### Exaqmple3\n",
    "List comprehension with if else"
   ]
  },
  {
   "cell_type": "markdown",
   "id": "58a0c22b",
   "metadata": {},
   "source": [
    "#### Generate a list of qurares from a given range when the numbers are even and print 0 for each occurance of odd number"
   ]
  },
  {
   "cell_type": "code",
   "execution_count": 11,
   "id": "55f3f715",
   "metadata": {},
   "outputs": [
    {
     "name": "stdout",
     "output_type": "stream",
     "text": [
      "[0, 1, 2, 3, 4, 5, 6, 7, 8, 9, 10, 11, 12, 13, 14, 15, 16, 17, 18, 19, 20]\n",
      "(0, 0, 4, 0, 16, 0, 36, 0, 64, 0, 100, 0, 144, 0, 196, 0, 256, 0, 324, 0, 400)\n"
     ]
    }
   ],
   "source": [
    "my_list = list(range(21))\n",
    "print(my_list)\n",
    "result = (i**2 if i%2 == 0 else 0 for i in my_list)\n",
    "print(tuple(result))"
   ]
  },
  {
   "cell_type": "raw",
   "id": "b0aaaa7f",
   "metadata": {},
   "source": []
  },
  {
   "cell_type": "markdown",
   "id": "fd9140b3",
   "metadata": {},
   "source": [
    "#### You are given a dictionary. Generate another dictionary where keys and values are respectively the values and keys in the given dictionary\n",
    "    Input = {'a':1, 'b':2, 'c':3, 'd':4, 'e':5}\n",
    "    Output = {1:'a', 2:'b', 3:'c', 4:'d', 5:'e'}"
   ]
  },
  {
   "cell_type": "code",
   "execution_count": 12,
   "id": "aa8af7a2",
   "metadata": {},
   "outputs": [
    {
     "name": "stdout",
     "output_type": "stream",
     "text": [
      "{'A': 5, 'B': 10, 'C': 20}\n",
      "{5: 'A', 10: 'B', 20: 'C'}\n"
     ]
    }
   ],
   "source": [
    "dic1 = {'A':5, 'B':10, 'C':20}\n",
    "dic2 = dict([(value, key) for key, value in dic1.items()])\n",
    "print(dic1)\n",
    "print(dic2)\n"
   ]
  },
  {
   "cell_type": "code",
   "execution_count": 13,
   "id": "235368bd",
   "metadata": {},
   "outputs": [
    {
     "name": "stdout",
     "output_type": "stream",
     "text": [
      "{1: 'A', 2: 'B', 3: 'C', 4: 'D', 5: 'E'}\n"
     ]
    }
   ],
   "source": [
    "dict = {'A':1 , 'B':2 , 'C':3 , 'D':4 , 'E':5}\n",
    "result_d = {value:key for key,value in dict.items()}\n",
    "print(result_d)"
   ]
  },
  {
   "cell_type": "markdown",
   "id": "e395145f",
   "metadata": {},
   "source": [
    "  "
   ]
  },
  {
   "cell_type": "markdown",
   "id": "2a7c077a",
   "metadata": {},
   "source": [
    " "
   ]
  },
  {
   "cell_type": "markdown",
   "id": "60198332",
   "metadata": {},
   "source": [
    "## Function\n",
    "- It is way to organize your code in a more modular or reusable way\n",
    "- It takes data as argument, performs some operation and returns value or values\n",
    "- It is a block of code than can be run only by calling\n",
    "- Yo can call it as many times as you want from any part of your program"
   ]
  },
  {
   "cell_type": "markdown",
   "id": "69b65b8c",
   "metadata": {},
   "source": [
    "# Structure\n",
    "    def function_name(arg1, arg2...)\n",
    "    \"\"\"\n",
    "    This is docstring where we write the descriptipn of the function\n",
    "    This can be accessed by shift+Tab\"\"\"\n",
    "\n",
    "    # Task\n",
    "    return desired_value"
   ]
  },
  {
   "cell_type": "markdown",
   "id": "b302e4de",
   "metadata": {},
   "source": [
    "### Example1\n",
    "Create a function which takes a string as argument and returns a list of the first letter of each word present in the string"
   ]
  },
  {
   "cell_type": "code",
   "execution_count": 17,
   "id": "21267e32",
   "metadata": {},
   "outputs": [],
   "source": [
    "def extract_first_letter(sentence):\n",
    "    \"\"\"\n",
    "    This is a function which takes a string as input\n",
    "    It returns a list of the first leeter of each word present in that string\n",
    "    \"\"\"\n",
    "    \n",
    "    word_list = sentence.split()\n",
    "    result = [word[0] for word in word_list]\n",
    "    return result"
   ]
  },
  {
   "cell_type": "code",
   "execution_count": 18,
   "id": "8f094418",
   "metadata": {},
   "outputs": [
    {
     "data": {
      "text/plain": [
       "['W',\n",
       " 's',\n",
       " 'i',\n",
       " 'i',\n",
       " 'e',\n",
       " 'y',\n",
       " 'd',\n",
       " 'i',\n",
       " 'e',\n",
       " 'i',\n",
       " 't',\n",
       " 'o',\n",
       " 'a',\n",
       " 'n',\n",
       " 'i',\n",
       " 'y',\n",
       " 'f']"
      ]
     },
     "execution_count": 18,
     "metadata": {},
     "output_type": "execute_result"
    }
   ],
   "source": [
    "s = \"When something is important enough, you do it even if the odds are not in your favour\"\n",
    "extract_first_letter()"
   ]
  },
  {
   "cell_type": "code",
   "execution_count": 20,
   "id": "e349afe1",
   "metadata": {},
   "outputs": [
    {
     "data": {
      "text/plain": [
       "['M', 'N', 'i', 'V']"
      ]
     },
     "execution_count": 20,
     "metadata": {},
     "output_type": "execute_result"
    }
   ],
   "source": [
    "result = extract_first_letter(\"My Name is Victor\")\n",
    "result \n"
   ]
  },
  {
   "cell_type": "markdown",
   "id": "bf29a50a",
   "metadata": {},
   "source": [
    "### Example 2:\n",
    "Create a function that takes an input from user and check whether it is prime or not"
   ]
  },
  {
   "cell_type": "code",
   "execution_count": 37,
   "id": "9ed1b4d9",
   "metadata": {},
   "outputs": [],
   "source": [
    "def is_prime(num):\n",
    "    if num>1:\n",
    "        for i in range(2,num//2+1):\n",
    "            if num%i == 0:\n",
    "                return \"Not Prime\"\n",
    "                break\n",
    "        else:\n",
    "            return \"It is prime\"\n",
    "    elif num == 1:\n",
    "        return \"1 is neither prime nor composite\"\n",
    "    else:\n",
    "        return \"Prime is a property of positive integers\" "
   ]
  },
  {
   "cell_type": "code",
   "execution_count": 38,
   "id": "03bfb1c8",
   "metadata": {},
   "outputs": [
    {
     "data": {
      "text/plain": [
       "'Not Prime'"
      ]
     },
     "execution_count": 38,
     "metadata": {},
     "output_type": "execute_result"
    }
   ],
   "source": [
    "is_prime(10)"
   ]
  },
  {
   "cell_type": "markdown",
   "id": "a05687f0",
   "metadata": {},
   "source": [
    "### Example 3\n",
    "    Create function which takes a date as input from user and return the year with quarter\n",
    "    Input: 2021-09-25\n",
    "    Output: 2021 Q3"
   ]
  },
  {
   "cell_type": "code",
   "execution_count": 42,
   "id": "6bd22465",
   "metadata": {},
   "outputs": [
    {
     "name": "stdout",
     "output_type": "stream",
     "text": [
      "Enter the number-5\n",
      "Must be greater than 1\n"
     ]
    }
   ],
   "source": [
    "num = int(input(\"Enter the number: \"))\n",
    "if num>1:\n",
    "    for i in range(2,num//2+1):\n",
    "        if num%i == 0:\n",
    "            print(\"It is composite\")\n",
    "            break\n",
    "    else:\n",
    "        print(\"Prime\")\n",
    "elif num == 1:\n",
    "    print(\"Neither Prime Nor Composite\")\n",
    "else:\n",
    "    print(\"Must be greater than 1\")"
   ]
  },
  {
   "cell_type": "code",
   "execution_count": 55,
   "id": "9d7c7f24",
   "metadata": {},
   "outputs": [],
   "source": [
    "def get_quarter(date_str):\n",
    "    year = date_str[0:4]\n",
    "    month = int(date_str[5:7])\n",
    "    \n",
    "    if 1 <= month <= 3:\n",
    "        quarter = \"Q1\"\n",
    "    elif 4 <= month <= 6:\n",
    "        quarter = \"Q2\"\n",
    "    elif 7 <= month <= 9:\n",
    "        quarter = \"Q3\"\n",
    "    else:\n",
    "        quarter = \"Q4\"\n",
    "    \n",
    "    \n",
    "    return f\"{year} {quarter}\""
   ]
  },
  {
   "cell_type": "code",
   "execution_count": 54,
   "id": "2652502b",
   "metadata": {},
   "outputs": [
    {
     "name": "stdout",
     "output_type": "stream",
     "text": [
      "Rnter your date in the format: YYYY-MM-DD2021-05-30\n"
     ]
    },
    {
     "data": {
      "text/plain": [
       "'2021 Q2'"
      ]
     },
     "execution_count": 54,
     "metadata": {},
     "output_type": "execute_result"
    }
   ],
   "source": [
    "date = input(\"Rnter your date in the format: YYYY-MM-DD\")\n",
    "get_quarter(date)"
   ]
  },
  {
   "cell_type": "markdown",
   "id": "c3c6c9a0",
   "metadata": {},
   "source": [
    "### Function with multiple return value\n"
   ]
  },
  {
   "cell_type": "markdown",
   "id": "1d5acd28",
   "metadata": {},
   "source": [
    "#### Example4:\n",
    "You are given a list of numbers. Create a function that freturns mean and median"
   ]
  },
  {
   "cell_type": "code",
   "execution_count": 56,
   "id": "69afb3c4",
   "metadata": {},
   "outputs": [],
   "source": [
    "num_list = [12, 5, 7, 6.3, 9, 0, -4]"
   ]
  },
  {
   "cell_type": "code",
   "execution_count": 57,
   "id": "33dfbedf",
   "metadata": {},
   "outputs": [],
   "source": [
    "def mean_median(my_list):\n",
    "    length = len(my_list)\n",
    "    mean = sum(my_list)/length\n",
    "    my_list.sort()\n",
    "    if length%2 != 0:\n",
    "        median = my_list[(length+1)//2 - 1]\n",
    "    else:\n",
    "        median = (my_list[(length//2) - 1] + my_list[(length//2)])/2\n",
    "    return mean, median"
   ]
  },
  {
   "cell_type": "code",
   "execution_count": 61,
   "id": "e0fd7cdb",
   "metadata": {},
   "outputs": [
    {
     "data": {
      "text/plain": [
       "(3.0, 3.0)"
      ]
     },
     "execution_count": 61,
     "metadata": {},
     "output_type": "execute_result"
    }
   ],
   "source": [
    "l = [2, 4, 1, 5, 6, 0]\n",
    "mean_median(l)"
   ]
  },
  {
   "cell_type": "code",
   "execution_count": null,
   "id": "81943937",
   "metadata": {},
   "outputs": [],
   "source": []
  }
 ],
 "metadata": {
  "kernelspec": {
   "display_name": "Python 3 (ipykernel)",
   "language": "python",
   "name": "python3"
  },
  "language_info": {
   "codemirror_mode": {
    "name": "ipython",
    "version": 3
   },
   "file_extension": ".py",
   "mimetype": "text/x-python",
   "name": "python",
   "nbconvert_exporter": "python",
   "pygments_lexer": "ipython3",
   "version": "3.9.7"
  }
 },
 "nbformat": 4,
 "nbformat_minor": 5
}
